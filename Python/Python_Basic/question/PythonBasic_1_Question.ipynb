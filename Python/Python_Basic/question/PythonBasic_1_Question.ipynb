{
  "nbformat": 4,
  "nbformat_minor": 0,
  "metadata": {
    "colab": {
      "provenance": []
    },
    "kernelspec": {
      "name": "python3",
      "display_name": "Python 3"
    },
    "language_info": {
      "name": "python"
    }
  },
  "cells": [
    {
      "cell_type": "markdown",
      "source": [
        "# 第1章 課題"
      ],
      "metadata": {
        "id": "kWc75ZFVvner"
      }
    },
    {
      "cell_type": "markdown",
      "source": [
        "## 課題1"
      ],
      "metadata": {
        "id": "bruivG-4v2Cc"
      }
    },
    {
      "cell_type": "markdown",
      "source": [
        "print関数を使って自分の情報を表示させる\n",
        "\n",
        "＜実行例＞ `b1998040 Chitose Taro`\n",
        "\n"
      ],
      "metadata": {
        "id": "OJ1NflXMv3mo"
      }
    },
    {
      "cell_type": "code",
      "execution_count": 21,
      "metadata": {
        "id": "e-ns59REvalm",
        "outputId": "e4b554fe-eecb-4b03-cbac-8672d307b722",
        "colab": {
          "base_uri": "https://localhost:8080/"
        }
      },
      "outputs": [
        {
          "output_type": "stream",
          "name": "stdout",
          "text": [
            "b2210090 Arai Tsubasa\n"
          ]
        }
      ],
      "source": [
        "# 入力用\n",
        "print(\"b2210090 Arai Tsubasa\")\n"
      ]
    },
    {
      "cell_type": "markdown",
      "source": [
        "## 課題2"
      ],
      "metadata": {
        "id": "Y-1UjAcTwPkf"
      }
    },
    {
      "cell_type": "markdown",
      "source": [
        "int型変数`student_number`に学籍番号の数値の部分を代入し、  \n",
        "自分の情報を表示させる\n",
        "\n",
        "＜実行例＞ `b1998040 Chitose Taro`\n",
        "\n",
        "＜hint＞ 3通りあるはずです。"
      ],
      "metadata": {
        "id": "HvO1SGM4wRPg"
      }
    },
    {
      "cell_type": "code",
      "source": [
        "# 入力用\n",
        "student_number = 2210090\n",
        "print(\"b\" + str(student_number) + \" \" + \"Arai Tsubasa\")\n",
        "print(\"b{} Arai Tsubasa\".format(student_number))\n",
        "print(f\"b{student_number} Arai Tsubasa\")\n"
      ],
      "metadata": {
        "id": "kXTNAYHLw1Mh",
        "outputId": "e6a0529e-7261-4496-9793-b6aed7f0e37a",
        "colab": {
          "base_uri": "https://localhost:8080/"
        }
      },
      "execution_count": 24,
      "outputs": [
        {
          "output_type": "stream",
          "name": "stdout",
          "text": [
            "b2210090 Arai Tsubasa\n",
            "b2210090 Arai Tsubasa\n",
            "b2210090 Arai Tsubasa\n"
          ]
        }
      ]
    },
    {
      "cell_type": "markdown",
      "source": [
        "## 課題3"
      ],
      "metadata": {
        "id": "9Tl25UnMw-Fd"
      }
    },
    {
      "cell_type": "markdown",
      "source": [
        "10から2800まで、10飛ばしの数を乱数で生成し、  \n",
        "2220000に足して、名前とともに表示させる\n",
        "\n",
        "＜実行例＞ `b2220010 Chitose Taro`"
      ],
      "metadata": {
        "id": "2WPpYUOLw_5H"
      }
    },
    {
      "cell_type": "code",
      "source": [
        "# 入力用\n",
        "import random\n",
        "\n",
        "student_number = 2220000\n",
        "a = random.randint(1,280)*10\n",
        "print(\"b\" + str(student_number + a)+ \" \" + \"Arai Tsubasa\")\n",
        "print(\"b{} Arai Tsubasa\".format(student_number+a))\n",
        "print(f\"b{student_number + a} Arai Tsubasa\")\n"
      ],
      "metadata": {
        "id": "8hxJMAqQ7uQy",
        "outputId": "5e393680-dc3f-4239-89d2-090c648c973b",
        "colab": {
          "base_uri": "https://localhost:8080/"
        }
      },
      "execution_count": 31,
      "outputs": [
        {
          "output_type": "stream",
          "name": "stdout",
          "text": [
            "b2220380 Arai Tsubasa\n",
            "b2220380 Arai Tsubasa\n",
            "b2220380 Arai Tsubasa\n"
          ]
        }
      ]
    }
  ]
}